{
  "cells": [
    {
      "cell_type": "markdown",
      "metadata": {
        "id": "view-in-github",
        "colab_type": "text"
      },
      "source": [
        "<a href=\"https://colab.research.google.com/github/ileven1133/EDA_Anime/blob/main/3_02_1_1_CAT_inferential_statistics.ipynb\" target=\"_parent\"><img src=\"https://colab.research.google.com/assets/colab-badge.svg\" alt=\"Open In Colab\"/></a>"
      ]
    },
    {
      "cell_type": "code",
      "execution_count": 1,
      "metadata": {
        "id": "f1Irkj-xVOoH"
      },
      "outputs": [],
      "source": [
        "import pandas as pd\n",
        "import seaborn as sns\n",
        "import numpy as np\n",
        "import matplotlib.pyplot as plt"
      ]
    },
    {
      "cell_type": "markdown",
      "metadata": {
        "id": "kBskOXzSVOoJ"
      },
      "source": [
        "# Estadístiques inferencials\n",
        "Estudiarem distribucions de probabilitat amb una simulació. Comencem creant una funció per llançar una moneda:"
      ]
    },
    {
      "cell_type": "code",
      "execution_count": 2,
      "metadata": {
        "id": "IrPzaopiVOoL"
      },
      "outputs": [],
      "source": [
        "def flip_coin():\n",
        "    if np.random.randint(0,2) == 1:\n",
        "        return \"Cara\"\n",
        "    else:\n",
        "        return \"Creu\""
      ]
    },
    {
      "cell_type": "markdown",
      "metadata": {
        "id": "MnrLFF5AVOoM"
      },
      "source": [
        "## La fal·làcia del jugador\n",
        "\n",
        "Primer, comencem per explorar l'aleatorietat d'aquest llançament. Construïu una llista que consti de 7 llançaments d'aquesta moneda:"
      ]
    },
    {
      "cell_type": "code",
      "execution_count": 3,
      "metadata": {
        "id": "bssAH7NXVOoM"
      },
      "outputs": [],
      "source": [
        "def generar_llançaments(num_llançaments):\n",
        "  resultats = [flip_coin() for _ in range(num_llançaments)]\n",
        "  return resultats\n"
      ]
    },
    {
      "cell_type": "code",
      "source": [
        "llançaments = generar_llançaments(7)\n",
        "print(llançaments)"
      ],
      "metadata": {
        "colab": {
          "base_uri": "https://localhost:8080/"
        },
        "id": "GaWv1qHzdIVx",
        "outputId": "16b0a53a-8ed8-4b59-9c49-a3a45903c4bc"
      },
      "execution_count": 4,
      "outputs": [
        {
          "output_type": "stream",
          "name": "stdout",
          "text": [
            "['Cara', 'Creu', 'Cara', 'Cara', 'Cara', 'Cara', 'Creu']\n"
          ]
        }
      ]
    },
    {
      "cell_type": "markdown",
      "metadata": {
        "id": "dJ28TbWBVOoM"
      },
      "source": [
        "Suposem que la llista llencés `['Cara', 'Cara', 'Cara', 'Cara', 'Cara', 'Cara', 'Cara']`.\n",
        "\n",
        "Diria que aquest és un escenari probable? Quina probabilitat diria que té en comparació amb, per exemple, una distribució com `['Cara', 'Creu', 'Cara', 'Cara', 'Creu', 'Cara', 'Creu']`?\n",
        "\n",
        "Si tornés a llançar una moneda, què esperaria que passés?\n",
        "\n",
        "Vegem-ho: creeu una simulació d'un joc en què intenteu llançar aquesta moneda set vegades deu mil vegades. Col·loqueu-les en una llista de llistes: la llista ha de tenir mil elements, i cadascun d'aquests elements ha de ser una llista amb set llançaments de moneda."
      ]
    },
    {
      "cell_type": "code",
      "execution_count": 5,
      "metadata": {
        "id": "pzHv1r_YVOoN"
      },
      "outputs": [],
      "source": [
        "def simular_joc1(num_jocs, num_llançaments):\n",
        "    resultats = []\n",
        "    for _ in range(num_jocs):\n",
        "        llançaments = generar_llançaments(num_llançaments)\n",
        "        resultats.append(llançaments)\n",
        "    return resultats"
      ]
    },
    {
      "cell_type": "code",
      "source": [
        "# Simular 10000 jocs de 7 llançaments\n",
        "resultats_joc = simular_joc1(100000, 7)\n",
        "\n",
        "# Imprimir els primers 10 resultats per exemple\n",
        "for i in range(5):\n",
        "  print(resultats_joc[i])"
      ],
      "metadata": {
        "colab": {
          "base_uri": "https://localhost:8080/"
        },
        "id": "fjQpKYPrdl6S",
        "outputId": "96882d3a-9831-451b-d249-9de3d46d0c9a"
      },
      "execution_count": 6,
      "outputs": [
        {
          "output_type": "stream",
          "name": "stdout",
          "text": [
            "['Cara', 'Cara', 'Cara', 'Creu', 'Cara', 'Cara', 'Creu']\n",
            "['Cara', 'Creu', 'Creu', 'Cara', 'Cara', 'Creu', 'Creu']\n",
            "['Creu', 'Creu', 'Creu', 'Cara', 'Creu', 'Cara', 'Cara']\n",
            "['Cara', 'Cara', 'Cara', 'Creu', 'Creu', 'Creu', 'Creu']\n",
            "['Cara', 'Cara', 'Creu', 'Cara', 'Creu', 'Creu', 'Cara']\n"
          ]
        }
      ]
    },
    {
      "cell_type": "markdown",
      "metadata": {
        "id": "LcMem14xVOoN"
      },
      "source": [
        "Mostra els primers cinc daquest joc. Després, estudia la probabilitat d'obtenir `['Cara', 'Cara', 'Cara', 'Cara', 'Cara', 'Cara', 'Cara']` (explicant quants elements de la llista són iguals a ella) i compara-la amb la probabilitat de `['Cara', 'Creu', 'Cara', 'Cara', 'Creu', 'Cara', 'Creu']`."
      ]
    },
    {
      "cell_type": "code",
      "execution_count": 7,
      "metadata": {
        "colab": {
          "base_uri": "https://localhost:8080/"
        },
        "id": "zQtiL-cgVOoN",
        "outputId": "11e6a0d4-a3b9-493b-f46d-c9e7336dc437"
      },
      "outputs": [
        {
          "output_type": "stream",
          "name": "stdout",
          "text": [
            "La seqüència ['Cara', 'Cara', 'Cara', 'Cara', 'Cara', 'Cara', 'Cara'] apareix 775 vegades.\n",
            "La probabilitat experimental és 0.0775.\n"
          ]
        }
      ],
      "source": [
        "def comptar_ocurrencies(resultats, sequencia):\n",
        "    comptador = 0\n",
        "    for llançaments in resultats:\n",
        "        if llançaments == sequencia:\n",
        "            comptador += 1\n",
        "    return comptador\n",
        "\n",
        "sequencia_cara = ['Cara', 'Cara', 'Cara', 'Cara', 'Cara', 'Cara', 'Cara']\n",
        "ocurrencies_cara = comptar_ocurrencies(resultats_joc, sequencia_cara)\n",
        "probabilitat_cara = ocurrencies_cara / 10000\n",
        "\n",
        "print(f\"La seqüència ['Cara', 'Cara', 'Cara', 'Cara', 'Cara', 'Cara', 'Cara'] apareix {ocurrencies_cara} vegades.\")\n",
        "print(f\"La probabilitat experimental és {probabilitat_cara}.\")"
      ]
    },
    {
      "cell_type": "code",
      "execution_count": 8,
      "metadata": {
        "colab": {
          "base_uri": "https://localhost:8080/"
        },
        "id": "kofQwFokVOoO",
        "outputId": "47752cb6-6da5-4459-b7cd-b7d13a103b54"
      },
      "outputs": [
        {
          "output_type": "stream",
          "name": "stdout",
          "text": [
            "La seqüència ['Cara', 'Creu', 'Cara', 'Cara', 'Creu', 'Cara', 'Creu'] apareix 758 vegades.\n",
            "La probabilitat experimental és 0.0758.\n"
          ]
        }
      ],
      "source": [
        "sequencia_cara = ['Cara', 'Creu', 'Cara', 'Cara', 'Creu', 'Cara', 'Creu']\n",
        "ocurrencies_cara = comptar_ocurrencies(resultats_joc, sequencia_cara)\n",
        "probabilitat_cara = ocurrencies_cara / 10000\n",
        "\n",
        "print(f\"La seqüència ['Cara', 'Creu', 'Cara', 'Cara', 'Creu', 'Cara', 'Creu'] apareix {ocurrencies_cara} vegades.\")\n",
        "print(f\"La probabilitat experimental és {probabilitat_cara}.\")"
      ]
    },
    {
      "cell_type": "markdown",
      "metadata": {
        "id": "S9tUIT3mVOoO"
      },
      "source": [
        "La fal·làcia del jugador passa quan esperem que les coses aleatòries \"sembli aleatòries\". Això és una cosa que [li va passar a Spotify](https://web.archive.org/web/20240225195617/https://engineering.atspotify.com/2014/02/how-to-shuffle-songs/): la gent seguia queixant-se que la seva aleatorietat no era \"prou aleatòria\" fins que la van modificar perquè \"semblés aleatòria\" al, paradoxalment, fer-la menys aleatòria.\n",
        "\n",
        "Ara, mostra els elements els primers sis llançaments dels quals són `['Cara', 'Cara', 'Cara', 'Cara', 'Cara', 'Cara']`. Quina és la probabilitat que el setè també sigui `Cara`? (pista: podeu prendre els primers sis elements d'una llista trucant a `list[:6]`)"
      ]
    },
    {
      "cell_type": "code",
      "execution_count": 9,
      "metadata": {
        "colab": {
          "base_uri": "https://localhost:8080/"
        },
        "id": "MYmywD0XVOoP",
        "outputId": "0476a34a-e531-415c-d0da-11d3ec74b642"
      },
      "outputs": [
        {
          "output_type": "stream",
          "name": "stdout",
          "text": [
            "Sequencies amb els primers sis llançaments 'Cara': 1602\n"
          ]
        }
      ],
      "source": [
        "def trobar_sequencies(resultats, sequencia):\n",
        "    sequencies_trobades = []\n",
        "    for llançaments in resultats:\n",
        "        if llançaments[:6] == sequencia:\n",
        "            sequencies_trobades.append(llançaments)\n",
        "    return sequencies_trobades\n",
        "\n",
        "sequencia_inicial = ['Cara', 'Cara', 'Cara', 'Cara', 'Cara', 'Cara']\n",
        "sequencies_amb_cara = trobar_sequencies(resultats_joc, sequencia_inicial)\n",
        "\n",
        "print(f\"Sequencies amb els primers sis llançaments 'Cara': {str(len(sequencies_amb_cara))}\")\n"
      ]
    },
    {
      "cell_type": "code",
      "execution_count": 10,
      "metadata": {
        "colab": {
          "base_uri": "https://localhost:8080/"
        },
        "id": "KZs5otbdVOoP",
        "outputId": "f07fed82-9023-4f08-e8b3-78f2b1413031"
      },
      "outputs": [
        {
          "output_type": "stream",
          "name": "stdout",
          "text": [
            "La probabilitat experimental que el setè llançament sigui 'Cara' és: 0.4837702871410737\n"
          ]
        }
      ],
      "source": [
        "def probabilitat_sete_llançament_cara(sequencies):\n",
        "    if not sequencies:\n",
        "        return 0\n",
        "    cares = 0\n",
        "    for sequencia in sequencies:\n",
        "        if len(sequencia) > 6 and sequencia[6] == 'Cara':\n",
        "            cares += 1\n",
        "    return cares / len(sequencies)\n",
        "\n",
        "probabilitat_sete = probabilitat_sete_llançament_cara(sequencies_amb_cara)\n",
        "print(f\"La probabilitat experimental que el setè llançament sigui 'Cara' és: {probabilitat_sete}\")"
      ]
    },
    {
      "cell_type": "markdown",
      "metadata": {
        "id": "ho74ymZhVOoQ"
      },
      "source": [
        "Podeu tornar a intentar la simulació iniciant el quadern de nou. Els números haurien de romandre dins del rang del 60% al 40% per a cares i creus. ¡L'estadística no té noció de memòria!"
      ]
    },
    {
      "cell_type": "markdown",
      "metadata": {
        "id": "Ev-FFYKJVOoQ"
      },
      "source": [
        "## El teorema del límit central\n",
        "\n",
        "Aquí és on les coses es posen interessants: suposem que, cada cop que la moneda surt `Cara`, guanyes una rupia. Cada vegada que surt `Creu`, perds un punt. Pren la simulació del joc, assigna una puntuació a cada jugada d'acord amb això i després dibuixa un histograma de la teva puntuació."
      ]
    },
    {
      "cell_type": "code",
      "execution_count": 11,
      "metadata": {
        "id": "0mkaSKJ3VOoR"
      },
      "outputs": [],
      "source": [
        "def calcular_puntuacio(llançaments):\n",
        "    puntuacio = 0\n",
        "    for llançament in llançaments:\n",
        "        if llançament == 'Cara':\n",
        "            puntuacio += 1\n",
        "        else:\n",
        "            puntuacio -= 1\n",
        "    return puntuacio\n",
        "\n",
        "def simular_joc2(num_jocs, num_llançaments):\n",
        "    puntuacions = []\n",
        "    for _ in range(num_jocs):\n",
        "        llançaments = [flip_coin() for _ in range(num_llançaments)]\n",
        "        puntuacions.append(calcular_puntuacio(llançaments))\n",
        "    return puntuacions"
      ]
    },
    {
      "cell_type": "code",
      "execution_count": 12,
      "metadata": {
        "colab": {
          "base_uri": "https://localhost:8080/",
          "height": 472
        },
        "id": "n7q693SbVOoR",
        "outputId": "3acaff6a-5a90-4d46-db94-eb1584babefe"
      },
      "outputs": [
        {
          "output_type": "display_data",
          "data": {
            "text/plain": [
              "<Figure size 640x480 with 1 Axes>"
            ],
            "image/png": "[encoded data removed]"
          },
          "metadata": {}
        }
      ],
      "source": [
        "# Simular 10000 jocs de 7 llançaments\n",
        "puntuacions = simular_joc2(10000, 7)\n",
        "\n",
        "# Generar l'histograma amb seaborn\n",
        "# Set x-ticks to odd numbers only\n",
        "min_val = int(min(puntuacions))\n",
        "max_val = int(max(puntuacions))\n",
        "\n",
        "# Create a range of odd numbers between min and max\n",
        "odd_ticks = [x for x in range(min_val, max_val + 1) if x % 2 == 1]\n",
        "\n",
        "bins = range(min_val - 0, max_val + 2)\n",
        "sns.histplot(puntuacions, bins=bins, kde=True, discrete=True, color='blue', shrink=0.8)\n",
        "bins = range(min(puntuacions) - 0, max(puntuacions) + 2)\n",
        "sns.histplot(puntuacions, bins=bins, kde=True, discrete=True, shrink=0.8)\n",
        "plt.xlabel('Puntuació')\n",
        "plt.ylabel('Freqüència')\n",
        "plt.title('Distribució de les puntuacions')\n",
        "plt.xticks(odd_ticks)\n",
        "plt.show()"
      ]
    },
    {
      "cell_type": "markdown",
      "metadata": {
        "id": "-yWxJOMjVOoS"
      },
      "source": [
        "Et resulta familiar? Torna a simular els jocs i els guanys, però aquesta vegada amb vint llançaments de moneda."
      ]
    },
    {
      "cell_type": "code",
      "execution_count": 13,
      "metadata": {
        "colab": {
          "base_uri": "https://localhost:8080/",
          "height": 472
        },
        "id": "HBq_cXwwVOoS",
        "outputId": "4d1f3cf2-1535-4f74-d2f0-95aef5bd6d45"
      },
      "outputs": [
        {
          "output_type": "display_data",
          "data": {
            "text/plain": [
              "<Figure size 640x480 with 1 Axes>"
            ],
            "image/png": "[encoded data removed]"
          },
          "metadata": {}
        }
      ],
      "source": [
        "# Simular 10000 jocs de 7 llançaments\n",
        "puntuacions = simular_joc2(10000, 20)\n",
        "\n",
        "# Generar l'histograma amb seaborn\n",
        "# Set x-ticks to odd numbers only\n",
        "min_val = int(min(puntuacions))\n",
        "max_val = int(max(puntuacions))\n",
        "\n",
        "# Create a range of odd numbers between min and max\n",
        "pair_ticks = [x for x in range(min_val, max_val + 1) if x % 2 != 1]\n",
        "\n",
        "bins = range(min_val - 0, max_val + 2)\n",
        "sns.histplot(puntuacions, bins=bins, kde=True, discrete=True, shrink=0.8)\n",
        "plt.xlabel('Puntuació')\n",
        "plt.ylabel('Freqüència')\n",
        "plt.title('Distribució de les puntuacions')\n",
        "plt.xticks(pair_ticks)\n",
        "plt.show()"
      ]
    },
    {
      "cell_type": "markdown",
      "metadata": {
        "id": "HNWFrXh_VOoT"
      },
      "source": [
        "Aquest és el [teorema del límit central](https://www.youtube.com/watch?v=zeJD6dqJ5lo): **en condicions apropiades, la distribució d'una versió normalitzada de la mitjana de la mostra convergeix una distribució normal estàndard**. En aquest cas, té cert sentit: la majoria de vegades guanyaràs la meitat dels llançaments, perdràs l'altra meitat i acabaràs empatant. De vegades tindreu molta sort, o molt mala sort, però aquestes seran l'excepció i no la norma."
      ]
    },
    {
      "cell_type": "markdown",
      "metadata": {
        "id": "WXTs8fxrVOoT"
      },
      "source": [
        "## Prova d'hipòtesis\n",
        "\n",
        "Ara, suposem que rebem una moneda diferent i no hi confiem: la vam llançar 100 vegades i vam obtenir 70 cares. Com vam veure, això no és del tot impossible, només improbable. Tot i així, volem provar la hipòtesi que la probabilitat real és 0,5, com la moneda que ja tenim, que sabem que és justa.\n",
        "\n",
        "Comencem creant una funció que prengui `flip_coin`, la proveu cent vegades i compti la quantitat de cares. Executeu aquesta funció cent mil vegades i anoteu cadascun dels resultats en un marc de dades, la columna anomenada `n_caras`."
      ]
    },
    {
      "cell_type": "code",
      "execution_count": 20,
      "metadata": {
        "id": "8m9AvRazVOoT",
        "colab": {
          "base_uri": "https://localhost:8080/",
          "height": 676
        },
        "outputId": "0667cd9b-f9a2-4f82-a377-dc5447b7b2f0"
      },
      "outputs": [
        {
          "output_type": "execute_result",
          "data": {
            "text/plain": [
              "    n_caras\n",
              "0        50\n",
              "1        49\n",
              "2        47\n",
              "3        57\n",
              "4        49\n",
              "5        43\n",
              "6        41\n",
              "7        45\n",
              "8        48\n",
              "9        51\n",
              "10       55\n",
              "11       52\n",
              "12       54\n",
              "13       53\n",
              "14       45\n",
              "15       52\n",
              "16       46\n",
              "17       61\n",
              "18       37\n",
              "19       55"
            ],
            "text/html": [
              "\n",
              "  <div id=\"df-915707e3-88aa-42e1-82eb-1335cb6fb0f4\" class=\"colab-df-container\">\n",
              "    <div>\n",
              "<style scoped>\n",
              "    .dataframe tbody tr th:only-of-type {\n",
              "        vertical-align: middle;\n",
              "    }\n",
              "\n",
              "    .dataframe tbody tr th {\n",
              "        vertical-align: top;\n",
              "    }\n",
              "\n",
              "    .dataframe thead th {\n",
              "        text-align: right;\n",
              "    }\n",
              "</style>\n",
              "<table border=\"1\" class=\"dataframe\">\n",
              "  <thead>\n",
              "    <tr style=\"text-align: right;\">\n",
              "      <th></th>\n",
              "      <th>n_caras</th>\n",
              "    </tr>\n",
              "  </thead>\n",
              "  <tbody>\n",
              "    <tr>\n",
              "      <th>0</th>\n",
              "      <td>50</td>\n",
              "    </tr>\n",
              "    <tr>\n",
              "      <th>1</th>\n",
              "      <td>49</td>\n",
              "    </tr>\n",
              "    <tr>\n",
              "      <th>2</th>\n",
              "      <td>47</td>\n",
              "    </tr>\n",
              "    <tr>\n",
              "      <th>3</th>\n",
              "      <td>57</td>\n",
              "    </tr>\n",
              "    <tr>\n",
              "      <th>4</th>\n",
              "      <td>49</td>\n",
              "    </tr>\n",
              "    <tr>\n",
              "      <th>5</th>\n",
              "      <td>43</td>\n",
              "    </tr>\n",
              "    <tr>\n",
              "      <th>6</th>\n",
              "      <td>41</td>\n",
              "    </tr>\n",
              "    <tr>\n",
              "      <th>7</th>\n",
              "      <td>45</td>\n",
              "    </tr>\n",
              "    <tr>\n",
              "      <th>8</th>\n",
              "      <td>48</td>\n",
              "    </tr>\n",
              "    <tr>\n",
              "      <th>9</th>\n",
              "      <td>51</td>\n",
              "    </tr>\n",
              "    <tr>\n",
              "      <th>10</th>\n",
              "      <td>55</td>\n",
              "    </tr>\n",
              "    <tr>\n",
              "      <th>11</th>\n",
              "      <td>52</td>\n",
              "    </tr>\n",
              "    <tr>\n",
              "      <th>12</th>\n",
              "      <td>54</td>\n",
              "    </tr>\n",
              "    <tr>\n",
              "      <th>13</th>\n",
              "      <td>53</td>\n",
              "    </tr>\n",
              "    <tr>\n",
              "      <th>14</th>\n",
              "      <td>45</td>\n",
              "    </tr>\n",
              "    <tr>\n",
              "      <th>15</th>\n",
              "      <td>52</td>\n",
              "    </tr>\n",
              "    <tr>\n",
              "      <th>16</th>\n",
              "      <td>46</td>\n",
              "    </tr>\n",
              "    <tr>\n",
              "      <th>17</th>\n",
              "      <td>61</td>\n",
              "    </tr>\n",
              "    <tr>\n",
              "      <th>18</th>\n",
              "      <td>37</td>\n",
              "    </tr>\n",
              "    <tr>\n",
              "      <th>19</th>\n",
              "      <td>55</td>\n",
              "    </tr>\n",
              "  </tbody>\n",
              "</table>\n",
              "</div>\n",
              "    <div class=\"colab-df-buttons\">\n",
              "\n",
              "  <div class=\"colab-df-container\">\n",
              "    <button class=\"colab-df-convert\" onclick=\"convertToInteractive('df-915707e3-88aa-42e1-82eb-1335cb6fb0f4')\"\n",
              "            title=\"Convert this dataframe to an interactive table.\"\n",
              "            style=\"display:none;\">\n",
              "\n",
              "  <svg xmlns=\"http://www.w3.org/2000/svg\" height=\"24px\" viewBox=\"0 -960 960 960\">\n",
              "    <path d=\"M120-120v-720h720v720H120Zm60-500h600v-160H180v160Zm220 220h160v-160H400v160Zm0 220h160v-160H400v160ZM180-400h160v-160H180v160Zm440 0h160v-160H620v160ZM180-180h160v-160H180v160Zm440 0h160v-160H620v160Z\"/>\n",
              "  </svg>\n",
              "    </button>\n",
              "\n",
              "  <style>\n",
              "    .colab-df-container {\n",
              "      display:flex;\n",
              "      gap: 12px;\n",
              "    }\n",
              "\n",
              "    .colab-df-convert {\n",
              "      background-color: #E8F0FE;\n",
              "      border: none;\n",
              "      border-radius: 50%;\n",
              "      cursor: pointer;\n",
              "      display: none;\n",
              "      fill: #1967D2;\n",
              "      height: 32px;\n",
              "      padding: 0 0 0 0;\n",
              "      width: 32px;\n",
              "    }\n",
              "\n",
              "    .colab-df-convert:hover {\n",
              "      background-color: #E2EBFA;\n",
              "      box-shadow: 0px 1px 2px rgba(60, 64, 67, 0.3), 0px 1px 3px 1px rgba(60, 64, 67, 0.15);\n",
              "      fill: #174EA6;\n",
              "    }\n",
              "\n",
              "    .colab-df-buttons div {\n",
              "      margin-bottom: 4px;\n",
              "    }\n",
              "\n",
              "    [theme=dark] .colab-df-convert {\n",
              "      background-color: #3B4455;\n",
              "      fill: #D2E3FC;\n",
              "    }\n",
              "\n",
              "    [theme=dark] .colab-df-convert:hover {\n",
              "      background-color: #434B5C;\n",
              "      box-shadow: 0px 1px 3px 1px rgba(0, 0, 0, 0.15);\n",
              "      filter: drop-shadow(0px 1px 2px rgba(0, 0, 0, 0.3));\n",
              "      fill: #FFFFFF;\n",
              "    }\n",
              "  </style>\n",
              "\n",
              "    <script>\n",
              "      const buttonEl =\n",
              "        document.querySelector('#df-915707e3-88aa-42e1-82eb-1335cb6fb0f4 button.colab-df-convert');\n",
              "      buttonEl.style.display =\n",
              "        google.colab.kernel.accessAllowed ? 'block' : 'none';\n",
              "\n",
              "      async function convertToInteractive(key) {\n",
              "        const element = document.querySelector('#df-915707e3-88aa-42e1-82eb-1335cb6fb0f4');\n",
              "        const dataTable =\n",
              "          await google.colab.kernel.invokeFunction('convertToInteractive',\n",
              "                                                    [key], {});\n",
              "        if (!dataTable) return;\n",
              "\n",
              "        const docLinkHtml = 'Like what you see? Visit the ' +\n",
              "          '<a target=\"_blank\" href=https://colab.research.google.com/notebooks/data_table.ipynb>data table notebook</a>'\n",
              "          + ' to learn more about interactive tables.';\n",
              "        element.innerHTML = '';\n",
              "        dataTable['output_type'] = 'display_data';\n",
              "        await google.colab.output.renderOutput(dataTable, element);\n",
              "        const docLink = document.createElement('div');\n",
              "        docLink.innerHTML = docLinkHtml;\n",
              "        element.appendChild(docLink);\n",
              "      }\n",
              "    </script>\n",
              "  </div>\n",
              "\n",
              "\n",
              "<div id=\"df-44c913c6-4b2c-4935-a336-9c2809e040a6\">\n",
              "  <button class=\"colab-df-quickchart\" onclick=\"quickchart('df-44c913c6-4b2c-4935-a336-9c2809e040a6')\"\n",
              "            title=\"Suggest charts\"\n",
              "            style=\"display:none;\">\n",
              "\n",
              "<svg xmlns=\"http://www.w3.org/2000/svg\" height=\"24px\"viewBox=\"0 0 24 24\"\n",
              "     width=\"24px\">\n",
              "    <g>\n",
              "        <path d=\"M19 3H5c-1.1 0-2 .9-2 2v14c0 1.1.9 2 2 2h14c1.1 0 2-.9 2-2V5c0-1.1-.9-2-2-2zM9 17H7v-7h2v7zm4 0h-2V7h2v10zm4 0h-2v-4h2v4z\"/>\n",
              "    </g>\n",
              "</svg>\n",
              "  </button>\n",
              "\n",
              "<style>\n",
              "  .colab-df-quickchart {\n",
              "      --bg-color: #E8F0FE;\n",
              "      --fill-color: #1967D2;\n",
              "      --hover-bg-color: #E2EBFA;\n",
              "      --hover-fill-color: #174EA6;\n",
              "      --disabled-fill-color: #AAA;\n",
              "      --disabled-bg-color: #DDD;\n",
              "  }\n",
              "\n",
              "  [theme=dark] .colab-df-quickchart {\n",
              "      --bg-color: #3B4455;\n",
              "      --fill-color: #D2E3FC;\n",
              "      --hover-bg-color: #434B5C;\n",
              "      --hover-fill-color: #FFFFFF;\n",
              "      --disabled-bg-color: #3B4455;\n",
              "      --disabled-fill-color: #666;\n",
              "  }\n",
              "\n",
              "  .colab-df-quickchart {\n",
              "    background-color: var(--bg-color);\n",
              "    border: none;\n",
              "    border-radius: 50%;\n",
              "    cursor: pointer;\n",
              "    display: none;\n",
              "    fill: var(--fill-color);\n",
              "    height: 32px;\n",
              "    padding: 0;\n",
              "    width: 32px;\n",
              "  }\n",
              "\n",
              "  .colab-df-quickchart:hover {\n",
              "    background-color: var(--hover-bg-color);\n",
              "    box-shadow: 0 1px 2px rgba(60, 64, 67, 0.3), 0 1px 3px 1px rgba(60, 64, 67, 0.15);\n",
              "    fill: var(--button-hover-fill-color);\n",
              "  }\n",
              "\n",
              "  .colab-df-quickchart-complete:disabled,\n",
              "  .colab-df-quickchart-complete:disabled:hover {\n",
              "    background-color: var(--disabled-bg-color);\n",
              "    fill: var(--disabled-fill-color);\n",
              "    box-shadow: none;\n",
              "  }\n",
              "\n",
              "  .colab-df-spinner {\n",
              "    border: 2px solid var(--fill-color);\n",
              "    border-color: transparent;\n",
              "    border-bottom-color: var(--fill-color);\n",
              "    animation:\n",
              "      spin 1s steps(1) infinite;\n",
              "  }\n",
              "\n",
              "  @keyframes spin {\n",
              "    0% {\n",
              "      border-color: transparent;\n",
              "      border-bottom-color: var(--fill-color);\n",
              "      border-left-color: var(--fill-color);\n",
              "    }\n",
              "    20% {\n",
              "      border-color: transparent;\n",
              "      border-left-color: var(--fill-color);\n",
              "      border-top-color: var(--fill-color);\n",
              "    }\n",
              "    30% {\n",
              "      border-color: transparent;\n",
              "      border-left-color: var(--fill-color);\n",
              "      border-top-color: var(--fill-color);\n",
              "      border-right-color: var(--fill-color);\n",
              "    }\n",
              "    40% {\n",
              "      border-color: transparent;\n",
              "      border-right-color: var(--fill-color);\n",
              "      border-top-color: var(--fill-color);\n",
              "    }\n",
              "    60% {\n",
              "      border-color: transparent;\n",
              "      border-right-color: var(--fill-color);\n",
              "    }\n",
              "    80% {\n",
              "      border-color: transparent;\n",
              "      border-right-color: var(--fill-color);\n",
              "      border-bottom-color: var(--fill-color);\n",
              "    }\n",
              "    90% {\n",
              "      border-color: transparent;\n",
              "      border-bottom-color: var(--fill-color);\n",
              "    }\n",
              "  }\n",
              "</style>\n",
              "\n",
              "  <script>\n",
              "    async function quickchart(key) {\n",
              "      const quickchartButtonEl =\n",
              "        document.querySelector('#' + key + ' button');\n",
              "      quickchartButtonEl.disabled = true;  // To prevent multiple clicks.\n",
              "      quickchartButtonEl.classList.add('colab-df-spinner');\n",
              "      try {\n",
              "        const charts = await google.colab.kernel.invokeFunction(\n",
              "            'suggestCharts', [key], {});\n",
              "      } catch (error) {\n",
              "        console.error('Error during call to suggestCharts:', error);\n",
              "      }\n",
              "      quickchartButtonEl.classList.remove('colab-df-spinner');\n",
              "      quickchartButtonEl.classList.add('colab-df-quickchart-complete');\n",
              "    }\n",
              "    (() => {\n",
              "      let quickchartButtonEl =\n",
              "        document.querySelector('#df-44c913c6-4b2c-4935-a336-9c2809e040a6 button');\n",
              "      quickchartButtonEl.style.display =\n",
              "        google.colab.kernel.accessAllowed ? 'block' : 'none';\n",
              "    })();\n",
              "  </script>\n",
              "</div>\n",
              "\n",
              "    </div>\n",
              "  </div>\n"
            ],
            "application/vnd.google.colaboratory.intrinsic+json": {
              "type": "dataframe",
              "variable_name": "df",
              "summary": "{\n  \"name\": \"df\",\n  \"rows\": 100000,\n  \"fields\": [\n    {\n      \"column\": \"n_caras\",\n      \"properties\": {\n        \"dtype\": \"number\",\n        \"std\": 4,\n        \"min\": 27,\n        \"max\": 72,\n        \"num_unique_values\": 44,\n        \"samples\": [\n          30,\n          59,\n          33\n        ],\n        \"semantic_type\": \"\",\n        \"description\": \"\"\n      }\n    }\n  ]\n}"
            }
          },
          "metadata": {},
          "execution_count": 20
        }
      ],
      "source": [
        "def comptar_cares(num_llançaments):\n",
        "    return sum(1 for _ in range(num_llançaments) if flip_coin() == 'Cara')\n",
        "\n",
        "n_simulations = 100000\n",
        "n_flips = 100\n",
        "\n",
        "count_head_list = [comptar_cares(n_flips) for _ in range(n_simulations)]\n",
        "\n",
        "df = pd.DataFrame({\"n_caras\": count_head_list})\n",
        "\n",
        "df.head(20)"
      ]
    },
    {
      "cell_type": "markdown",
      "metadata": {
        "id": "kf5vT9QwVOoU"
      },
      "source": [
        "En estadística, un [valor p](https://en.wikipedia.org/wiki/P-value) es defineix com un número que indica la probabilitat d'obtenir un valor que sigui almenys igual o més gran que l'observació real si la [hipòtesi nul·la](https://en.wikipedia.org/wiki/Null_hypothesis) és correcta.\n",
        "\n",
        "En el nostre cas, en què no confiem en la moneda, la hipòtesi nul·la és que la moneda és justa. Per tant, el que estem preguntant és:\n",
        "\n",
        "### Si la moneda fos justa, quina seria la probabilitat d'obtenir 70 cares seguides?\n",
        "\n",
        "Calcula això: mira el marc de dades i obté la quantitat de vegades que la moneda va sortir cara 70 o més vegades, dividida per la quantitat de jocs que vas jugar. Aquest és el teu valor p."
      ]
    },
    {
      "cell_type": "code",
      "source": [
        "alpha = 0.05\n",
        "n_total_simulacions = len(df)\n",
        "\n",
        "umbral = next(\n",
        "    i for i in range(100)\n",
        "    if (len(df[df[\"n_caras\"] >= i]) / n_total_simulacions) < alpha\n",
        ")\n",
        "\n",
        "print(f\"Umbral crítico: {umbral} caras (probabilidad = {len(df[df['n_caras'] >= umbral]) / n_total_simulacions:.4f}\")"
      ],
      "metadata": {
        "colab": {
          "base_uri": "https://localhost:8080/"
        },
        "id": "UeLt-25RxsIY",
        "outputId": "2bb29a49-b261-444b-eeaf-3e1f3c64fe6b"
      },
      "execution_count": 25,
      "outputs": [
        {
          "output_type": "stream",
          "name": "stdout",
          "text": [
            "Umbral crítico: 59 caras (probabilidad = 0.0437\n"
          ]
        }
      ]
    },
    {
      "cell_type": "code",
      "source": [
        "alpha = 0.05\n",
        "n_total_simulacions = len(df)\n",
        "\n",
        "for i in range(100):\n",
        "    # Calcular la probabilidad de obtener >= i caras\n",
        "    prob = len(df[df[\"n_caras\"] >= i]) / n_total_simulacions\n",
        "\n",
        "    if prob < alpha:\n",
        "        print(f\"Umbral crítico: {i} caras (probabilidad = {prob:.4f})\")\n",
        "        break"
      ],
      "metadata": {
        "colab": {
          "base_uri": "https://localhost:8080/"
        },
        "id": "_L4qqqnx28ML",
        "outputId": "e98813f1-cc0b-4b10-df07-a0fac5bf050b"
      },
      "execution_count": 26,
      "outputs": [
        {
          "output_type": "stream",
          "name": "stdout",
          "text": [
            "Umbral crítico: 59 caras (probabilidad = 0.0437)\n"
          ]
        }
      ]
    },
    {
      "cell_type": "code",
      "execution_count": 21,
      "metadata": {
        "colab": {
          "base_uri": "https://localhost:8080/"
        },
        "id": "2WVntftxVOoU",
        "outputId": "f947a84b-f6fd-4aa3-8209-958191bdc145"
      },
      "outputs": [
        {
          "output_type": "stream",
          "name": "stdout",
          "text": [
            "El valor p és: 4e-05\n"
          ]
        }
      ],
      "source": [
        "# Calcular el valor p\n",
        "valor_p = len(df[df['n_caras'] >= 70]) / len(df)\n",
        "\n",
        "print(f\"El valor p és: {valor_p}\")"
      ]
    },
    {
      "cell_type": "markdown",
      "metadata": {
        "id": "LD0jPxLcVOoU"
      },
      "source": [
        "Quantes cares podries obtenir a 100 llançaments abans de començar a sospitar que la moneda és injusta?"
      ]
    },
    {
      "cell_type": "code",
      "execution_count": 23,
      "metadata": {
        "colab": {
          "base_uri": "https://localhost:8080/"
        },
        "id": "OIg732JsVOoV",
        "outputId": "564f39d2-8a1c-4438-e372-16f3b3efaad4"
      },
      "outputs": [
        {
          "output_type": "stream",
          "name": "stdout",
          "text": [
            "Per a un llindar de significació de 0.05, el nombre de cares és: 58\n",
            "Per a un llindar de significació de 0.01, el nombre de cares és: 61\n"
          ]
        }
      ],
      "source": [
        "import scipy.stats as stats\n",
        "\n",
        "def calcular_nombre_cares(llindar_significació):\n",
        "    # Calcular el valor z corresponent al llindar de significació\n",
        "    valor_z = stats.norm.ppf(1 - llindar_significació)\n",
        "\n",
        "    # Calcular el nombre de cares corresponent al valor z\n",
        "    nombre_cares = 50 + valor_z * (100 * 0.5 * 0.5) ** 0.5\n",
        "\n",
        "    return int(nombre_cares)\n",
        "\n",
        "# Calcular el nombre de cares per a un llindar de significació de 0.05\n",
        "nombre_cares_005 = calcular_nombre_cares(0.05)\n",
        "print(f\"Per a un llindar de significació de 0.05, el nombre de cares és: {nombre_cares_005}\")\n",
        "\n",
        "# Calcular el nombre de cares per a un llindar de significació de 0.01\n",
        "nombre_cares_001 = calcular_nombre_cares(0.01)\n",
        "print(f\"Per a un llindar de significació de 0.01, el nombre de cares és: {nombre_cares_001}\")"
      ]
    }
  ],
  "metadata": {
    "kernelspec": {
      "display_name": "codeop",
      "language": "python",
      "name": "python3"
    },
    "language_info": {
      "codemirror_mode": {
        "name": "ipython",
        "version": 3
      },
      "file_extension": ".py",
      "mimetype": "text/x-python",
      "name": "python",
      "nbconvert_exporter": "python",
      "pygments_lexer": "ipython3",
      "version": "3.13.0"
    },
    "colab": {
      "provenance": [],
      "include_colab_link": true
    }
  },
  "nbformat": 4,
  "nbformat_minor": 0
}